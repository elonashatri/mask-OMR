{
 "cells": [
  {
   "cell_type": "markdown",
   "id": "f5a2293e",
   "metadata": {},
   "source": [
    "# Mask R-CNN - Train on Doremi"
   ]
  },
  {
   "cell_type": "code",
   "execution_count": null,
   "id": "1db6cab4",
   "metadata": {
    "collapsed": true
   },
   "outputs": [],
   "source": []
  },
  {
   "cell_type": "code",
   "execution_count": 77,
   "id": "91bfab91",
   "metadata": {
    "collapsed": true
   },
   "outputs": [],
   "source": [
    "import os\n",
    "import sys\n",
    "import random\n",
    "import math\n",
    "import re\n",
    "import glob\n",
    "import time\n",
    "import numpy as np\n",
    "import datetime\n",
    "import tensorflow as tf\n",
    "import matplotlib\n",
    "import matplotlib.pyplot as plt\n",
    "import matplotlib.patches as patches\n",
    "import json\n",
    "from tqdm import tqdm\n",
    "from xml.dom import minidom\n",
    "from mrcnn.config import Config\n",
    "\n",
    "# Root directory of the project\n",
    "ROOT_DIR = os.path.abspath(\"./\")\n",
    "\n",
    "# Import Mask RCNN\n",
    "sys.path.append(ROOT_DIR)  # To find local version of the library\n",
    "from mrcnn import utils\n",
    "from mrcnn.utils import Dataset\n",
    "from mrcnn import visualize\n",
    "from mrcnn.visualize import display_images\n",
    "import mrcnn.model as modellib\n",
    "from mrcnn.model import log\n",
    "\n",
    "%matplotlib inline \n",
    "\n",
    "import skimage.draw\n",
    "from keras import backend as K\n",
    "\n",
    "# Path to classnames file\n",
    "CLASSNAMES_PATH = \"/import/c4dm-05/elona/doremi_v5_half/train_validation_test_records/mapping.json\"\n",
    "\n",
    "# Path to XML Train files\n",
    "XML_DATA_PATH = '/homes/es314/DOREMI_version_2/MRCNN_DOREMI_20210503/dataset/'\n",
    "# XML_TRAIN_PATH = '/homes/es314/DOREMI_version_2/MRCNN_DOREMI_20210503/dataset/train/'\n",
    "# Path to XML Val files\n",
    "# XML_VAL_PATH = '/homes/es314/DOREMI_version_2/MRCNN_DOREMI_20210503/dataset/val/'\n",
    "\n",
    "# Path to Images \n",
    "IMG_PATH = '/homes/es314/DOREMI_version_2/DOREMI_v3/images/'\n",
    "# Path to trained weights file\n",
    "# COCO_WEIGHTS_PATH = os.path.join(ROOT_DIR, \"weights/mask_rcnn_coco.h5\")\n",
    "COCO_WEIGHTS_PATH = '/homes/es314/DOREMI_version_2/MRCNN_DOREMI_20210503/weights/mask_rcnn_coco.h5'\n",
    "# Directory to save logs and model checkpoints, if not provided\n",
    "# through the command line argument --logs\n",
    "# DEFAULT_LOGS_DIR = os.path.join(ROOT_DIR, \"logs\")\n",
    "DEFAULT_LOGS_DIR = '/homes/es314/DOREMI_version_2/MRCNN_DOREMI_20210503/logs_resnet50'"
   ]
  },
  {
   "cell_type": "markdown",
   "id": "52135a9d",
   "metadata": {
    "collapsed": true
   },
   "source": [
    "# Configurations"
   ]
  },
  {
   "cell_type": "code",
   "execution_count": 78,
   "id": "92c1cbe7",
   "metadata": {
    "collapsed": true
   },
   "outputs": [],
   "source": [
    "class DoremiConfig(Config):\n",
    "    \"\"\"\n",
    "    Configuration for training on the Doremi dataset.\n",
    "    Derives from the base Config class and overrides some values.\n",
    "    \"\"\"\n",
    "    # Give the configuration a recognizable name\n",
    "    NAME = \"doremi\"\n",
    "\n",
    "    # We use a GPU with ??GB memory, which can fit ??? images. (12gb can fit 2 images)\n",
    "    # Adjust down if you use a smaller/bigger GPU.\n",
    "    IMAGES_PER_GPU = 1\n",
    "\n",
    "    # Number of classes (including background)\n",
    "    NUM_CLASSES = 1 + 71  # Background + 71 classes\n",
    "\n",
    "    # Number of training steps per epoch\n",
    "    STEPS_PER_EPOCH = 100\n",
    "\n",
    "    # Skip detections with < 90% confidence\n",
    "    DETECTION_MIN_CONFIDENCE = 0.9\n",
    "\n",
    "    # Our image size \n",
    "    # IMAGE_RESIZE_MODE = \"none\"\n",
    "    # IMAGE_MAX_DIM = 3520\n",
    "    BACKBONE = \"resnet50\""
   ]
  },
  {
   "cell_type": "code",
   "execution_count": 79,
   "id": "cf4fa672",
   "metadata": {
    "collapsed": true
   },
   "outputs": [],
   "source": [
    "# Device to load the neural network on.\n",
    "# Useful if you're training a model on the same \n",
    "# machine, in which case use CPU and leave the\n",
    "# GPU for training.\n",
    "DEVICE = \"/cpu:0\"  # /cpu:0 or /gpu:0\n",
    "\n",
    "# Inspect the model in training or inference modes\n",
    "# values: 'inference' or 'training'\n",
    "# TODO: code for 'training' test mode not ready yet\n",
    "TEST_MODE = \"inference\""
   ]
  },
  {
   "cell_type": "markdown",
   "id": "0550c520",
   "metadata": {},
   "source": [
    "# Notebook Preferences"
   ]
  },
  {
   "cell_type": "code",
   "execution_count": 80,
   "id": "dd21d177",
   "metadata": {
    "collapsed": true
   },
   "outputs": [],
   "source": [
    "def get_ax(rows=1, cols=1, size=16):\n",
    "    \"\"\"Return a Matplotlib Axes array to be used in\n",
    "    all visualizations in the notebook. Provide a\n",
    "    central point to control graph sizes.\n",
    "    \n",
    "    Adjust the size attribute to control how big to render images\n",
    "    \"\"\"\n",
    "    _, ax = plt.subplots(rows, cols, figsize=(size*cols, size*rows))\n",
    "    return ax"
   ]
  },
  {
   "cell_type": "markdown",
   "id": "3035998d",
   "metadata": {},
   "source": [
    "\n",
    "# Dataset\n",
    "\n",
    "Create a synthetic dataset\n",
    "\n",
    "Extend the Dataset class and add a method to load the shapes dataset, load_shapes(), and override the following methods:\n",
    "\n",
    "- load_image()\n",
    "- load_mask()\n",
    "- image_reference()\n",
    "\n"
   ]
  },
  {
   "cell_type": "code",
   "execution_count": 81,
   "id": "6424fb0a",
   "metadata": {
    "collapsed": true
   },
   "outputs": [],
   "source": [
    "class DoremiDataset(utils.Dataset):\n",
    "    def load_doremi(self, subset):\n",
    "        \"\"\"\n",
    "        Load a subset of the Foremi dataset.\n",
    "        subset: Subset to load: train or val\n",
    "        \"\"\"\n",
    "        # Add classes. We have only one class to add.\n",
    "        # self.add_class(\"doremi\", class_id, \"classname\")\n",
    "        with open(CLASSNAMES_PATH) as json_file:\n",
    "            data = json.load(json_file)\n",
    "            for id_class in data:\n",
    "                self.add_class(\"doremi\", id_class[\"id\"], id_class[\"name\"])\n",
    "\n",
    "        # Train or validation dataset?\n",
    "        assert subset in [\"train\", \"val\"]\n",
    "        # dataset_dir = os.path.join(dataset_dir, subset)\n",
    "        dataset_dir = XML_DATA_PATH+subset+'/*.xml'\n",
    "        available_xml = glob.glob(dataset_dir)\n",
    "        # xml_count = len(available_xml)\n",
    "\n",
    "        # Go through all XML Files\n",
    "        # Each XML File is 1 Page, each page corresponds to 1 image\n",
    "        for xml_file in tqdm(available_xml, desc=\"XML Files\"):\n",
    "            filename = os.path.basename(xml_file)\n",
    "            # Remove .xml from end of file\n",
    "            filename = filename[:-4]\n",
    "\n",
    "            # Parse XML Document\n",
    "            xmldoc = minidom.parse(xml_file)\n",
    "\n",
    "            # Get image name from XML file name\n",
    "            page = xmldoc.getElementsByTagName('Page')\n",
    "            page_index_str = page[0].attributes['pageIndex'].value\n",
    "\n",
    "            page_index_int = int(page_index_str) + 1\n",
    "            # Open image related to XML file\n",
    "            # /homes/es314/DOREMI_version_2/data_v5/parsed_by_classnames/Parsed_accidental tucking-layout-0-muscima_Page_2.xml\n",
    "            # Parsed_accidental tucking-layout-0-muscima_Page_2.xml\n",
    "            # Remove '-layout-0-muscima_Page_' (23 chars) + len of page_index_str\n",
    "\n",
    "            # Image name\n",
    "            # /homes/es314/DOREMI_version_2/DOREMI_v3/images/accidental tucking-002.png\n",
    "            # accidental tucking-002.png\n",
    "\n",
    "            ending = 23 + len(str(page_index_int))\n",
    "\n",
    "            start_str = 'Parsed_'\n",
    "            # If page is 0, we need to add '000'\n",
    "            leading_zeroes = str(page_index_int).zfill(3)\n",
    "            img_filename = filename[len(start_str):-ending]+'-'+leading_zeroes\n",
    "            img_filename = img_filename+'.png'\n",
    "            # /homes/es314/DOREMI_version_2/DOREMI_v3/images/beam groups 12 demisemiquavers simple-918.png'\n",
    "\n",
    "            img_path = IMG_PATH + img_filename\n",
    "            # Hardcoded because our images have the same shape\n",
    "            img_height = 3504\n",
    "            img_width = 2474\n",
    "\n",
    "            mask_arr = []\n",
    "\n",
    "            nodes = xmldoc.getElementsByTagName('Node')\n",
    "            # print('nodes len: ', len(nodes))\n",
    "\n",
    "            instances_count = len(xmldoc.getElementsByTagName('ClassName'))\n",
    "\n",
    "            # Array containing mask info object that we will use in load_mask\n",
    "            masks_info = []\n",
    "            # {\n",
    "            #     \"bbox_top\": int\n",
    "            #     \"bbox_left\": int\n",
    "            #     \"bbox_width\": int\n",
    "            #     \"bbox_height\": int\n",
    "            #     \"mask_arr\": [int]\n",
    "            #     \"classname\": str\n",
    "            # }\n",
    "            for node in nodes:\n",
    "                this_mask_info = {}\n",
    "                # Classname\n",
    "                node_classname_el = node.getElementsByTagName('ClassName')[0]\n",
    "                node_classname = node_classname_el.firstChild.data\n",
    "                # Top\n",
    "                node_top = node.getElementsByTagName('Top')[0]\n",
    "                node_top_int = int(node_top.firstChild.data)\n",
    "                # Left\n",
    "                node_left = node.getElementsByTagName('Left')[0]\n",
    "                node_left_int = int(node_left.firstChild.data)\n",
    "                # Width\n",
    "                node_width = node.getElementsByTagName('Width')[0]\n",
    "                node_width_int = int(node_width.firstChild.data)\n",
    "                # Height\n",
    "                node_height = node.getElementsByTagName('Height')[0]\n",
    "                node_height_int = int(node_height.firstChild.data)\n",
    "\n",
    "                node_mask = str(node.getElementsByTagName('Mask')[0].firstChild.data)\n",
    "                # 0: 2 1: 7 0: 9 1: 3\n",
    "                node_mask = node_mask.replace('0:', '')\n",
    "                # 2 1: 7 9 1: 3\n",
    "                node_mask = node_mask.replace('1:', '')\n",
    "                # 2 7 9 3\n",
    "                split_mask = node_mask.split(' ')\n",
    "                # [2, 7, 9, 3]\n",
    "                split_mask = split_mask[:-1]\n",
    "                \n",
    "                notehead_counts = list(map(int, list(split_mask)))\n",
    "\n",
    "                this_mask_info[\"classname\"] = node_classname\n",
    "                this_mask_info[\"bbox_top\"] = node_top_int\n",
    "                this_mask_info[\"bbox_left\"] = node_left_int\n",
    "                this_mask_info[\"bbox_width\"] = node_width_int\n",
    "                this_mask_info[\"bbox_height\"] = node_height_int\n",
    "                this_mask_info[\"mask_arr\"] = notehead_counts\n",
    "\n",
    "                masks_info.append(this_mask_info)\n",
    "\n",
    "\n",
    "            # 3 required attributes, rest is kwargs\n",
    "            # image_info = {\n",
    "            #     \"id\": image_id,\n",
    "            #     \"source\": source,\n",
    "            #     \"path\": path,\n",
    "            # }\n",
    "            self.add_image(\n",
    "                    \"doremi\",\n",
    "                    image_id=img_filename,  # use file name as a unique image id\n",
    "                    path=img_path,\n",
    "                    img_width=img_width, img_height=img_height,\n",
    "                    masks_info=masks_info)\n",
    "\n",
    "    def load_mask(self, image_id):\n",
    "        \"\"\"\n",
    "        Generate instance masks for an image.\n",
    "        Should returns:\n",
    "        masks: A bool array of shape [height, width, instance count] with\n",
    "            one mask per instance.\n",
    "        class_ids: a 1D array of class IDs of the instance masks.\n",
    "        \"\"\"\n",
    "        # If not a balloon dataset image, delegate to parent class.\n",
    "        info = self.image_info[image_id]\n",
    "        if info[\"source\"] != \"doremi\":\n",
    "            return super(self.__class__, self).load_mask(image_id)\n",
    "        \n",
    "        img_height = info[\"img_height\"]\n",
    "        img_width = info[\"img_width\"]\n",
    "        mask = np.zeros([img_height, img_width, len(info[\"masks_info\"])],dtype=np.uint8)\n",
    "        instances_classes = []\n",
    "        ids_classnames = {}\n",
    "        with open(CLASSNAMES_PATH) as json_file:\n",
    "            data = json.load(json_file)\n",
    "            for id_class in data:\n",
    "                ids_classnames[id_class[\"name\"]] = id_class[\"id\"]\n",
    "        for it, info in enumerate(info[\"masks_info\"]):\n",
    "            class_id = ids_classnames[info[\"classname\"]]\n",
    "            instances_classes.append(class_id)\n",
    "\n",
    "            notehead_counts = info[\"mask_arr\"]\n",
    "            node_top_int = info[\"bbox_top\"]\n",
    "            node_left_int = info[\"bbox_left\"]\n",
    "            node_width_int = info[\"bbox_width\"]\n",
    "            node_height_int = info[\"bbox_height\"]\n",
    "            # Counts start with Zero\n",
    "            zero = True\n",
    "            i = node_top_int\n",
    "            j = node_left_int\n",
    "\n",
    "            for count in notehead_counts:\n",
    "                # If first 0 count is zero, ignore and go to 1\n",
    "                if count != 0:\n",
    "                    for _ in range(count):\n",
    "                        if not zero:\n",
    "                            mask[i, j, it] = 1\n",
    "\n",
    "                        j = j + 1\n",
    "                        if j == img_width or j == node_left_int+node_width_int:\n",
    "                            j = node_left_int\n",
    "                            i = i + 1\n",
    "                zero = not zero\n",
    "        # Return mask, and array of class IDs of each instance.\n",
    "        return mask.astype(np.bool), np.array(instances_classes, dtype=np.int32)\n",
    "\n",
    "    def image_reference(self, image_id):\n",
    "        \"\"\"Return the path of the image.\"\"\"\n",
    "        info = self.image_info[image_id]\n",
    "        if info[\"source\"] == \"doremi\":\n",
    "            return info[\"path\"]\n",
    "        else:\n",
    "            super(self.__class__, self).image_reference(image_id)"
   ]
  },
  {
   "cell_type": "markdown",
   "id": "a91c32b3",
   "metadata": {},
   "source": [
    "# Loading Training and Validation Dataset"
   ]
  },
  {
   "cell_type": "code",
   "execution_count": 82,
   "id": "b63350f0",
   "metadata": {},
   "outputs": [
    {
     "name": "stderr",
     "output_type": "stream",
     "text": [
      "XML Files: 100%|██████████| 291/291 [00:14<00:00, 20.58it/s]\n",
      "XML Files: 100%|██████████| 88/88 [00:04<00:00, 18.56it/s]\n"
     ]
    }
   ],
   "source": [
    " # Training dataset.\n",
    "dataset_train = DoremiDataset()\n",
    "dataset_train.load_doremi(\"train\")\n",
    "dataset_train.prepare()\n",
    "\n",
    "# Validation dataset\n",
    "dataset_val = DoremiDataset()\n",
    "dataset_val.load_doremi(\"val\")\n",
    "dataset_val.prepare()"
   ]
  },
  {
   "cell_type": "code",
   "execution_count": 83,
   "id": "660b7cfe",
   "metadata": {},
   "outputs": [
    {
     "data": {
      "image/png": "[encoded data removed]",
      "text/plain": [
       "<matplotlib.figure.Figure at 0x7ff2951e45f8>"
      ]
     },
     "metadata": {
      "needs_background": "light"
     },
     "output_type": "display_data"
    },
    {
     "data": {
      "image/png": "[encoded data removed]",
      "text/plain": [
       "<matplotlib.figure.Figure at 0x7ff29514a668>"
      ]
     },
     "metadata": {
      "needs_background": "light"
     },
     "output_type": "display_data"
    },
    {
     "data": {
      "image/png": "[encoded data removed]",
      "text/plain": [
       "<matplotlib.figure.Figure at 0x7ff294e7c6d8>"
      ]
     },
     "metadata": {
      "needs_background": "light"
     },
     "output_type": "display_data"
    },
    {
     "data": {
      "image/png": "[encoded data removed]",
      "text/plain": [
       "<matplotlib.figure.Figure at 0x7ff2948b9780>"
      ]
     },
     "metadata": {
      "needs_background": "light"
     },
     "output_type": "display_data"
    }
   ],
   "source": [
    "# Load and display random samples\n",
    "image_ids = np.random.choice(dataset_train.image_ids, 4)\n",
    "\n",
    "for image_id in image_ids:\n",
    "    image = dataset_train.load_image(image_id)\n",
    "    mask, class_ids = dataset_train.load_mask(image_id)\n",
    "    visualize.display_top_masks(image, mask, class_ids, dataset_train.class_names)"
   ]
  },
  {
   "cell_type": "code",
   "execution_count": 84,
   "id": "5a121ed7",
   "metadata": {},
   "outputs": [
    {
     "name": "stdout",
     "output_type": "stream",
     "text": [
      "image_id  248 /homes/es314/DOREMI_version_2/DOREMI_v3/images/beam groups 12 semiquavers simple-1038.png\n",
      "image                    shape: (3504, 2475, 3)       min:    0.00000  max:  255.00000  uint8\n",
      "mask                     shape: (3504, 2474, 87)      min:    0.00000  max:    1.00000  bool\n",
      "class_ids                shape: (87,)                 min:   20.00000  max:   56.00000  int32\n",
      "bbox                     shape: (87, 4)               min:  299.00000  max: 2300.00000  int32\n"
     ]
    },
    {
     "ename": "ValueError",
     "evalue": "operands could not be broadcast together with shapes (3504,2474) (3504,2475) (3504,2475) ",
     "output_type": "error",
     "traceback": [
      "\u001b[0;31m---------------------------------------------------------------------------\u001b[0m",
      "\u001b[0;31mValueError\u001b[0m                                Traceback (most recent call last)",
      "\u001b[0;32m<ipython-input-84-89f0ede037c4>\u001b[0m in \u001b[0;36m<module>\u001b[0;34m()\u001b[0m\n\u001b[1;32m     13\u001b[0m \u001b[0mlog\u001b[0m\u001b[0;34m(\u001b[0m\u001b[0;34m\"bbox\"\u001b[0m\u001b[0;34m,\u001b[0m \u001b[0mbbox\u001b[0m\u001b[0;34m)\u001b[0m\u001b[0;34m\u001b[0m\u001b[0m\n\u001b[1;32m     14\u001b[0m \u001b[0;31m# Display image and instances\u001b[0m\u001b[0;34m\u001b[0m\u001b[0;34m\u001b[0m\u001b[0m\n\u001b[0;32m---> 15\u001b[0;31m \u001b[0mvisualize\u001b[0m\u001b[0;34m.\u001b[0m\u001b[0mdisplay_instances\u001b[0m\u001b[0;34m(\u001b[0m\u001b[0mimage\u001b[0m\u001b[0;34m,\u001b[0m \u001b[0mbbox\u001b[0m\u001b[0;34m,\u001b[0m \u001b[0mmask\u001b[0m\u001b[0;34m,\u001b[0m \u001b[0mclass_ids\u001b[0m\u001b[0;34m,\u001b[0m \u001b[0mdataset_train\u001b[0m\u001b[0;34m.\u001b[0m\u001b[0mclass_names\u001b[0m\u001b[0;34m)\u001b[0m\u001b[0;34m\u001b[0m\u001b[0m\n\u001b[0m",
      "\u001b[0;32m~/DOREMI_version_2/MRCNN_DOREMI_20210503/mrcnn/visualize.py\u001b[0m in \u001b[0;36mdisplay_instances\u001b[0;34m(image, boxes, masks, class_ids, class_names, scores, title, figsize, ax, show_mask, show_bbox, colors, captions)\u001b[0m\n\u001b[1;32m    150\u001b[0m         \u001b[0mmask\u001b[0m \u001b[0;34m=\u001b[0m \u001b[0mmasks\u001b[0m\u001b[0;34m[\u001b[0m\u001b[0;34m:\u001b[0m\u001b[0;34m,\u001b[0m \u001b[0;34m:\u001b[0m\u001b[0;34m,\u001b[0m \u001b[0mi\u001b[0m\u001b[0;34m]\u001b[0m\u001b[0;34m\u001b[0m\u001b[0m\n\u001b[1;32m    151\u001b[0m         \u001b[0;32mif\u001b[0m \u001b[0mshow_mask\u001b[0m\u001b[0;34m:\u001b[0m\u001b[0;34m\u001b[0m\u001b[0m\n\u001b[0;32m--> 152\u001b[0;31m             \u001b[0mmasked_image\u001b[0m \u001b[0;34m=\u001b[0m \u001b[0mapply_mask\u001b[0m\u001b[0;34m(\u001b[0m\u001b[0mmasked_image\u001b[0m\u001b[0;34m,\u001b[0m \u001b[0mmask\u001b[0m\u001b[0;34m,\u001b[0m \u001b[0mcolor\u001b[0m\u001b[0;34m)\u001b[0m\u001b[0;34m\u001b[0m\u001b[0m\n\u001b[0m\u001b[1;32m    153\u001b[0m \u001b[0;34m\u001b[0m\u001b[0m\n\u001b[1;32m    154\u001b[0m         \u001b[0;31m# Mask Polygon\u001b[0m\u001b[0;34m\u001b[0m\u001b[0;34m\u001b[0m\u001b[0m\n",
      "\u001b[0;32m~/DOREMI_version_2/MRCNN_DOREMI_20210503/mrcnn/visualize.py\u001b[0m in \u001b[0;36mapply_mask\u001b[0;34m(image, mask, color, alpha)\u001b[0m\n\u001b[1;32m     77\u001b[0m                                   \u001b[0mimage\u001b[0m\u001b[0;34m[\u001b[0m\u001b[0;34m:\u001b[0m\u001b[0;34m,\u001b[0m \u001b[0;34m:\u001b[0m\u001b[0;34m,\u001b[0m \u001b[0mc\u001b[0m\u001b[0;34m]\u001b[0m \u001b[0;34m*\u001b[0m\u001b[0;34m\u001b[0m\u001b[0m\n\u001b[1;32m     78\u001b[0m                                   \u001b[0;34m(\u001b[0m\u001b[0;36m1\u001b[0m \u001b[0;34m-\u001b[0m \u001b[0malpha\u001b[0m\u001b[0;34m)\u001b[0m \u001b[0;34m+\u001b[0m \u001b[0malpha\u001b[0m \u001b[0;34m*\u001b[0m \u001b[0mcolor\u001b[0m\u001b[0;34m[\u001b[0m\u001b[0mc\u001b[0m\u001b[0;34m]\u001b[0m \u001b[0;34m*\u001b[0m \u001b[0;36m255\u001b[0m\u001b[0;34m,\u001b[0m\u001b[0;34m\u001b[0m\u001b[0m\n\u001b[0;32m---> 79\u001b[0;31m                                   image[:, :, c])\n\u001b[0m\u001b[1;32m     80\u001b[0m     \u001b[0;32mreturn\u001b[0m \u001b[0mimage\u001b[0m\u001b[0;34m\u001b[0m\u001b[0m\n\u001b[1;32m     81\u001b[0m \u001b[0;34m\u001b[0m\u001b[0m\n",
      "\u001b[0;31mValueError\u001b[0m: operands could not be broadcast together with shapes (3504,2474) (3504,2475) (3504,2475) "
     ]
    },
    {
     "data": {
      "image/png": "[encoded data removed]",
      "text/plain": [
       "<matplotlib.figure.Figure at 0x7ff294425160>"
      ]
     },
     "metadata": {
      "needs_background": "light"
     },
     "output_type": "display_data"
    }
   ],
   "source": [
    "# Load random image and mask.\n",
    "image_id = random.choice(dataset_train.image_ids)\n",
    "image = dataset_train.load_image(image_id)\n",
    "mask, class_ids = dataset_train.load_mask(image_id)\n",
    "# Compute Bounding box\n",
    "bbox = utils.extract_bboxes(mask)\n",
    "\n",
    "# Display image and additional stats\n",
    "print(\"image_id \", image_id, dataset_train.image_reference(image_id))\n",
    "log(\"image\", image)\n",
    "log(\"mask\", mask)\n",
    "log(\"class_ids\", class_ids)\n",
    "log(\"bbox\", bbox)\n",
    "# Display image and instances\n",
    "visualize.display_instances(image, bbox, mask, class_ids, dataset_train.class_names)"
   ]
  },
  {
   "cell_type": "markdown",
   "id": "04471f41",
   "metadata": {
    "collapsed": true
   },
   "source": [
    "# Training\n",
    "\n",
    "## The example code trains in two stages:\n",
    "\n",
    "- Only the heads. Here we're freezing all the backbone layers and training only the randomly initialized layers (i.e. the ones that we didn't use pre-trained weights from MS COCO). To train only the head layers, pass layers='heads' to the train() function.\n",
    "\n",
    "- Fine-tune all layers. For this simple example it's not necessary, but we're including it to show the process. Simply pass layers=\"all to train all layers.\n",
    "\n",
    "## Choose what's best for this dataset\n"
   ]
  },
  {
   "cell_type": "code",
   "execution_count": null,
   "id": "a4bcb7dc",
   "metadata": {
    "collapsed": true
   },
   "outputs": [],
   "source": []
  },
  {
   "cell_type": "markdown",
   "id": "47820ade",
   "metadata": {},
   "source": [
    "# Detection"
   ]
  },
  {
   "cell_type": "code",
   "execution_count": null,
   "id": "2fba7024",
   "metadata": {
    "collapsed": true
   },
   "outputs": [],
   "source": [
    "MODEL_DIR = '/homes/es314/DOREMI_version_2/MRCNN_DOREMI_20210503/logs'\n",
    "\n",
    "class InferenceConfig(ShapesConfig):\n",
    "    GPU_COUNT = 1\n",
    "    IMAGES_PER_GPU = 1\n",
    "\n",
    "inference_config = InferenceConfig()\n",
    "\n",
    "# Recreate the model in inference mode\n",
    "model = modellib.MaskRCNN(mode=\"inference\", \n",
    "                          config=inference_config,\n",
    "                          model_dir=MODEL_DIR)\n",
    "\n",
    "# Get path to saved weights\n",
    "# Either set a specific path or find last trained weights\n",
    "# model_path = os.path.join(ROOT_DIR, \".h5 file name here\")\n",
    "model_path = model.find_last()\n",
    "\n",
    "# Load trained weights\n",
    "print(\"Loading weights from \", model_path)\n",
    "model.load_weights(model_path, by_name=True)"
   ]
  }
 ],
 "metadata": {
  "kernelspec": {
   "display_name": "maskrcnn-kernel",
   "language": "python",
   "name": "maskrcnn-kernel"
  },
  "language_info": {
   "codemirror_mode": {
    "name": "ipython",
    "version": 3
   },
   "file_extension": ".py",
   "mimetype": "text/x-python",
   "name": "python",
   "nbconvert_exporter": "python",
   "pygments_lexer": "ipython3",
   "version": "3.5.6"
  }
 },
 "nbformat": 4,
 "nbformat_minor": 5
}
